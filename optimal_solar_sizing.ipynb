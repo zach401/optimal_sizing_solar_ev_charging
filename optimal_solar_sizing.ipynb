{
  "nbformat": 4,
  "nbformat_minor": 0,
  "metadata": {
    "colab": {
      "name": "optimal_solar_sizing",
      "provenance": [],
      "collapsed_sections": [],
      "machine_shape": "hm",
      "authorship_tag": "ABX9TyPHbue4DykOwprpwnhbEk2k",
      "include_colab_link": true
    },
    "kernelspec": {
      "name": "python3",
      "display_name": "Python 3"
    }
  },
  "cells": [
    {
      "cell_type": "markdown",
      "metadata": {
        "id": "view-in-github",
        "colab_type": "text"
      },
      "source": [
        "<a href=\"https://colab.research.google.com/github/zach401/optimal_sizing_solar_ev_charging/blob/master/optimal_solar_sizing.ipynb\" target=\"_parent\"><img src=\"https://colab.research.google.com/assets/colab-badge.svg\" alt=\"Open In Colab\"/></a>"
      ]
    },
    {
      "cell_type": "code",
      "metadata": {
        "id": "NnMyiu69oAeq",
        "colab_type": "code",
        "colab": {}
      },
      "source": [
        "!git clone https://github.com/zach401/acnportal.git\n",
        "!pip install acnportal/."
      ],
      "execution_count": 0,
      "outputs": []
    },
    {
      "cell_type": "code",
      "metadata": {
        "id": "KGw2CyOBgcYT",
        "colab_type": "code",
        "colab": {}
      },
      "source": [
        "!pip install cvxpy"
      ],
      "execution_count": 0,
      "outputs": []
    },
    {
      "cell_type": "code",
      "metadata": {
        "id": "JZbhbYecoC4P",
        "colab_type": "code",
        "colab": {}
      },
      "source": [
        "from matplotlib import pyplot as plt\n",
        "import numpy as np\n",
        "import pandas as pd\n",
        "from acnportal import acndata\n",
        "from datetime import datetime, timedelta\n",
        "import pytz\n",
        "from sklearn.mixture import GaussianMixture\n",
        "import scipy.stats as stats\n",
        "import math\n",
        "import cvxpy as cp\n",
        "from collections import defaultdict\n",
        "import time\n",
        "\n",
        "tz = pytz.timezone('America/Los_Angeles')"
      ],
      "execution_count": 0,
      "outputs": []
    },
    {
      "cell_type": "code",
      "metadata": {
        "id": "d9lcPGbHoZmu",
        "colab_type": "code",
        "colab": {}
      },
      "source": [
        "client = acndata.DataClient('DEMO_TOKEN')"
      ],
      "execution_count": 0,
      "outputs": []
    },
    {
      "cell_type": "code",
      "metadata": {
        "id": "ZYSlGkOYo5Uf",
        "colab_type": "code",
        "colab": {}
      },
      "source": [
        "def get_data(start, end, site):\n",
        "  data = pd.DataFrame(client.get_sessions_by_time('jpl', start, end))\n",
        "  data.sort_values(by='connectionTime', inplace=True)\n",
        "  return data\n",
        "\n",
        "\n",
        "def get_data_matrix(data):\n",
        "  connection_time = [v.hour + v.minute/60 for v in data['connectionTime']]\n",
        "  durations = [v.total_seconds()/3600 for v in data['disconnectTime'] - data['connectionTime']]\n",
        "  energy = [v for v in data['kWhDelivered']]\n",
        "  return np.array([connection_time, durations, energy]).T\n",
        "\n",
        "\n",
        "def train_gmm(data):\n",
        "  d = get_data_matrix(data)\n",
        "  gmm = GaussianMixture(35, n_init=1)\n",
        "  gmm.fit(d)\n",
        "  return gmm\n",
        "\n",
        "\n",
        "def sample_sessions(n_days, n_per_day, model):\n",
        "  \"\"\" Each row is a session in the form arrival, duration, energy.\"\"\"\n",
        "  preds = []\n",
        "  for d in range(n_days):\n",
        "      pred = model.sample(n_per_day)[0]\n",
        "      pred[:, 0] += 24*d\n",
        "      preds.append(pred)\n",
        "  preds = np.concatenate(preds)\n",
        "  return np.stack(preds)\n",
        "\n",
        "\n",
        "def process_sessions(sessions, period, max_charging_power):\n",
        "  sessions[:, :2] = np.floor(sessions[:, :2] * 60 / period)\n",
        "  sessions[:, 2] = np.minimum(sessions[:, 2], \n",
        "                              np.floor(sessions[:, 1]) * period / 60 * max_charging_power)\n",
        "  mask = np.logical_and(sessions[:, 1].astype(int) > 0, \n",
        "                        sessions[:, 2] >= 0)\n",
        "  return sessions[mask]\n",
        "\n",
        "\n",
        "def optimize_solar(scenarios, solar_curve, solar_lcoe, tou_prices, demand_charge, \n",
        "                   period_len, max_charging_power):\n",
        "  alpha = cp.Variable(nonneg=True)\n",
        "  constraints = []\n",
        "  objectives = []\n",
        "  for j, scenario in enumerate(scenarios):\n",
        "    print(f'Adding scenario {j}...')\n",
        "    horizon = int(max(scenario[:, 0] + scenario[:, 1]))\n",
        "    print(f'Horizon {horizon}...')\n",
        "    agg_rates = defaultdict(list)\n",
        "    for i, session in enumerate(scenario):\n",
        "      a, d = int(session[0]), int(session[1])\n",
        "      rates = cp.Variable(d)\n",
        "      constraints.append(rates <= max_charging_power)\n",
        "      # print('Adding energy constraints...')\n",
        "      constraints.append(cp.sum(rates) * period_len == session[2])\n",
        "      for t in range(d):\n",
        "        agg_rates[a + t].append(rates[t])\n",
        "    \n",
        "    peak = cp.Variable(nonneg=True)\n",
        "    scenario_solar = solar_curve[:horizon]\n",
        "    obj = solar_lcoe * alpha * sum(scenario_solar) * period_len\n",
        "    grid_power = {}\n",
        "    for t in agg_rates:\n",
        "      grid_power[t] = cp.maximum(0, sum(agg_rates[t]) - alpha * scenario_solar[t])\n",
        "      obj += tou_prices[t] * grid_power[t] * period_len\n",
        "      constraints.append(peak >= grid_power[t])\n",
        "    obj += demand_charge * peak\n",
        "    objectives.append(obj)\n",
        "  prob = cp.Problem(cp.Minimize(cp.sum(objectives)), constraints)\n",
        "  prob.solve(verbose=True)\n",
        "  return {'average_cost': prob.value / len(scenarios),\n",
        "          'alpha': alpha.value}\n",
        "\n",
        "\n",
        "class SamSolar:\n",
        "    def __init__(self, period, csv_source, index_name, col_name, \n",
        "                 scale=None, capacity=None):\n",
        "        init_time = datetime(2018, 1, 1).astimezone()\n",
        "        self.period = period\n",
        "        self.csv = csv_source\n",
        "        raw_solar = pd.read_csv(self.csv, index_col=index_name)\n",
        "        raw_solar.index = init_time + pd.to_timedelta(raw_solar.index, 'h')\n",
        "        raw_solar = raw_solar.resample('{0}T'.format(self.period)).pad()  # should switch to interpolate...\n",
        "        self.scale=scale\n",
        "        raw_solar = raw_solar[col_name].fillna(0).clip(lower=0)\n",
        "        if self.scale is not None:\n",
        "            if capacity is None:\n",
        "                raw_solar = (raw_solar / raw_solar.max())*self.scale\n",
        "            else:\n",
        "                raw_solar = (raw_solar / capacity) * self.scale\n",
        "        self.generation = raw_solar\n",
        "\n",
        "    def get_generation(self, start, end):\n",
        "        if end < datetime(2019, 1, 1).astimezone():\n",
        "            return self.generation[start:end].values\n",
        "        else:\n",
        "            return np.concatenate([self.generation[start:].values, self.generation[:end.replace(year=2018)]])"
      ],
      "execution_count": 0,
      "outputs": []
    },
    {
      "cell_type": "code",
      "metadata": {
        "id": "axxiBVFxpclK",
        "colab_type": "code",
        "colab": {}
      },
      "source": [
        "training_start = tz.localize(datetime(2019, 1, 1))\n",
        "training_end = tz.localize(datetime(2019, 2, 1))\n",
        "data = get_data(training_start, training_end, 'jpl')\n",
        "gmm = train_gmm(data)"
      ],
      "execution_count": 0,
      "outputs": []
    },
    {
      "cell_type": "code",
      "metadata": {
        "id": "7-A8XJoDpimh",
        "colab_type": "code",
        "colab": {}
      },
      "source": [
        "period = 15\n",
        "period_len = period / 60\n",
        "max_len = 30 * 24 * int(60 / period)\n",
        "max_charging_power = 6.656\n",
        "scenarios = []\n",
        "for _ in range(2):\n",
        "  sessions = sample_sessions(30, 30, gmm)\n",
        "  sessions = process_sessions(sessions, period, max_charging_power)\n",
        "  scenarios.append(sessions)"
      ],
      "execution_count": 0,
      "outputs": []
    },
    {
      "cell_type": "code",
      "metadata": {
        "id": "My1uA8ZgD68q",
        "colab_type": "code",
        "colab": {}
      },
      "source": [
        "# solar_data = 'tmy_yearly_system_production.csv'\n",
        "solar_data = 'https://raw.githubusercontent.com/zach401/optimal_sizing_solar_ev_charging/master/tmy_yearly_system_production.csv'\n",
        "solar = SamSolar(period, solar_data, 'Hours since 00:00 Jan 1', 'System power generated (kW)')"
      ],
      "execution_count": 0,
      "outputs": []
    },
    {
      "cell_type": "code",
      "metadata": {
        "id": "A2xJpMIpq81y",
        "colab_type": "code",
        "colab": {
          "base_uri": "https://localhost:8080/",
          "height": 494
        },
        "outputId": "562323a0-11b7-45ea-ea8d-9031eb555869"
      },
      "source": [
        "from acnportal.signals.tariffs import TimeOfUseTariff\n",
        "simulation_start_time = tz.localize(datetime(2019, 2, 1))\n",
        "\n",
        "\n",
        "solar_curve = solar.get_generation(simulation_start_time, \n",
        "                                   simulation_start_time + timedelta(days=30))\n",
        "solar_lcoe = 0.05\n",
        "\n",
        "tariff = TimeOfUseTariff('sce_tou_ev_4_march_2019')\n",
        "demand_charge = tariff.get_demand_charge(simulation_start_time)\n",
        "tou_prices = tariff.get_tariffs(simulation_start_time, max_len, period)\n",
        "\n",
        "init_time = time.time()\n",
        "res = optimize_solar(scenarios, solar_curve, solar_lcoe, \n",
        "                      tou_prices, demand_charge, period_len, \n",
        "                      max_charging_power)\n",
        "print(time.time() - init_time)"
      ],
      "execution_count": 26,
      "outputs": [
        {
          "output_type": "stream",
          "text": [
            "Adding scenario 0...\n",
            "Horizon 2859...\n",
            "Adding scenario 1...\n",
            "Horizon 2869...\n",
            "\n",
            "ECOS 2.0.7 - (C) embotech GmbH, Zurich Switzerland, 2012-15. Web: www.embotech.com/ECOS\n",
            "\n",
            "It     pcost       dcost      gap   pres   dres    k/t    mu     step   sigma     IR    |   BT\n",
            " 0  +1.316e+03  -3.520e+05  +2e+06  6e-01  1e+01  1e+00  3e+01    ---    ---    1  1  - |  -  - \n",
            " 1  +1.946e+03  -2.748e+05  +2e+06  5e-01  9e+00  6e+00  2e+01  0.2456  6e-01   1  1  1 |  0  0\n",
            " 2  +2.696e+03  -1.319e+05  +1e+06  2e-01  5e+00  2e+01  2e+01  0.5001  4e-01   1  1  1 |  0  0\n",
            " 3  +2.782e+03  -4.441e+04  +6e+05  6e-02  2e+00  1e+01  9e+00  0.5365  1e-01   1  1  1 |  0  0\n",
            " 4  +2.718e+03  -9.854e+03  +2e+05  1e-02  1e+00  4e+00  3e+00  0.8173  2e-01   1  1  1 |  0  0\n",
            " 5  +2.579e+03  +5.517e+02  +4e+04  2e-03  2e-01  5e-01  6e-01  0.8285  2e-02   1  1  1 |  0  0\n",
            " 6  +2.486e+03  +1.443e+03  +2e+04  1e-03  1e-01  2e-01  3e-01  0.6107  2e-01   1  1  1 |  0  0\n",
            " 7  +2.444e+03  +1.922e+03  +1e+04  5e-04  7e-02  9e-02  2e-01  0.5841  2e-01   1  1  1 |  0  0\n",
            " 8  +2.420e+03  +2.183e+03  +5e+03  2e-04  3e-02  2e-02  7e-02  0.7386  3e-01   1  1  1 |  0  0\n",
            " 9  +2.409e+03  +2.315e+03  +2e+03  1e-04  1e-02  8e-03  3e-02  0.7058  1e-01   1  1  1 |  0  0\n",
            "10  +2.403e+03  +2.389e+03  +3e+02  1e-05  2e-03  1e-03  4e-03  0.8756  2e-02   1  1  1 |  0  0\n",
            "11  +2.402e+03  +2.399e+03  +7e+01  3e-06  4e-04  1e-04  9e-04  0.8999  1e-01   1  1  1 |  0  0\n",
            "12  +2.402e+03  +2.402e+03  +2e+00  1e-07  1e-05  3e-06  3e-05  0.9857  2e-02   1  1  1 |  0  0\n",
            "13  +2.402e+03  +2.402e+03  +2e-02  1e-09  1e-07  3e-08  3e-07  0.9890  1e-04   1  1  1 |  0  0\n",
            "14  +2.402e+03  +2.402e+03  +3e-04  1e-11  2e-09  3e-10  4e-09  0.9890  1e-04   2  0  0 |  0  0\n",
            "15  +2.402e+03  +2.402e+03  +3e-06  1e-13  2e-11  4e-12  4e-11  0.9890  1e-04   2  0  0 |  0  0\n",
            "\n",
            "OPTIMAL (within feastol=1.7e-11, reltol=1.2e-09, abstol=3.0e-06).\n",
            "Runtime: 0.886010 seconds.\n",
            "\n",
            "77.47127056121826\n"
          ],
          "name": "stdout"
        }
      ]
    },
    {
      "cell_type": "code",
      "metadata": {
        "id": "elCdCzdRqXg7",
        "colab_type": "code",
        "colab": {
          "base_uri": "https://localhost:8080/",
          "height": 32
        },
        "outputId": "b2d3620c-f103-4cc2-8802-8f9cc94f3d57"
      },
      "source": [
        "res"
      ],
      "execution_count": 27,
      "outputs": [
        {
          "output_type": "execute_result",
          "data": {
            "text/plain": [
              "{'alpha': 105.40701921912068, 'average_cost': 1201.02268882025}"
            ]
          },
          "metadata": {
            "tags": []
          },
          "execution_count": 27
        }
      ]
    }
  ]
}