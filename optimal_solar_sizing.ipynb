{
  "nbformat": 4,
  "nbformat_minor": 0,
  "metadata": {
    "colab": {
      "name": "optimal_solar_sizing",
      "provenance": [],
      "collapsed_sections": [],
      "machine_shape": "hm",
      "authorship_tag": "ABX9TyPAbDSmd2tUHjE6SXD9s1gs",
      "include_colab_link": true
    },
    "kernelspec": {
      "name": "python3",
      "display_name": "Python 3"
    }
  },
  "cells": [
    {
      "cell_type": "markdown",
      "metadata": {
        "id": "view-in-github",
        "colab_type": "text"
      },
      "source": [
        "<a href=\"https://colab.research.google.com/github/zach401/optimal_sizing_solar_ev_charging/blob/master/optimal_solar_sizing.ipynb\" target=\"_parent\"><img src=\"https://colab.research.google.com/assets/colab-badge.svg\" alt=\"Open In Colab\"/></a>"
      ]
    },
    {
      "cell_type": "code",
      "metadata": {
        "id": "NnMyiu69oAeq",
        "colab_type": "code",
        "colab": {}
      },
      "source": [
        "!git clone https://github.com/zach401/acnportal.git\n",
        "!pip install acnportal/."
      ],
      "execution_count": 0,
      "outputs": []
    },
    {
      "cell_type": "code",
      "metadata": {
        "id": "KGw2CyOBgcYT",
        "colab_type": "code",
        "colab": {}
      },
      "source": [
        "!pip install cvxpy"
      ],
      "execution_count": 0,
      "outputs": []
    },
    {
      "cell_type": "code",
      "metadata": {
        "id": "JZbhbYecoC4P",
        "colab_type": "code",
        "colab": {}
      },
      "source": [
        "from matplotlib import pyplot as plt\n",
        "import numpy as np\n",
        "import pandas as pd\n",
        "from acnportal import acndata\n",
        "from datetime import datetime, timedelta\n",
        "import pytz\n",
        "from sklearn.mixture import GaussianMixture\n",
        "import scipy.stats as stats\n",
        "import math\n",
        "import cvxpy as cp\n",
        "from collections import defaultdict\n",
        "import time\n",
        "\n",
        "tz = pytz.timezone('America/Los_Angeles')"
      ],
      "execution_count": 0,
      "outputs": []
    },
    {
      "cell_type": "code",
      "metadata": {
        "id": "d9lcPGbHoZmu",
        "colab_type": "code",
        "colab": {}
      },
      "source": [
        "client = acndata.DataClient('DEMO_TOKEN')"
      ],
      "execution_count": 0,
      "outputs": []
    },
    {
      "cell_type": "code",
      "metadata": {
        "id": "ZYSlGkOYo5Uf",
        "colab_type": "code",
        "colab": {}
      },
      "source": [
        "def get_data(start, end, site):\n",
        "  data = pd.DataFrame(client.get_sessions_by_time('jpl', start, end))\n",
        "  data.sort_values(by='connectionTime', inplace=True)\n",
        "  return data\n",
        "\n",
        "\n",
        "def get_data_matrix(data):\n",
        "  connection_time = [v.hour + v.minute/60 for v in data['connectionTime']]\n",
        "  durations = [v.total_seconds()/3600 for v in data['disconnectTime'] - data['connectionTime']]\n",
        "  energy = [v for v in data['kWhDelivered']]\n",
        "  return np.array([connection_time, durations, energy]).T\n",
        "\n",
        "\n",
        "def train_gmm(data):\n",
        "  d = get_data_matrix(data)\n",
        "  gmm = GaussianMixture(35, n_init=1)\n",
        "  gmm.fit(d)\n",
        "  return gmm\n",
        "\n",
        "\n",
        "def sample_sessions(n_days, n_per_day, model):\n",
        "  \"\"\" Each row is a session in the form arrival, duration, energy.\"\"\"\n",
        "  preds = []\n",
        "  for d in range(n_days):\n",
        "      pred = model.sample(n_per_day)[0]\n",
        "      pred[:, 0] += 24*d\n",
        "      preds.append(pred)\n",
        "  preds = np.concatenate(preds)\n",
        "  return np.stack(preds)\n",
        "\n",
        "\n",
        "def process_sessions(sessions, period, max_charging_power):\n",
        "  sessions[:, :2] = np.floor(sessions[:, :2] * 60 / period)\n",
        "  sessions[:, 2] = np.minimum(sessions[:, 2], \n",
        "                              np.floor(sessions[:, 1]) * period / 60 * max_charging_power)\n",
        "  mask = np.logical_and(sessions[:, 1].astype(int) > 0, \n",
        "                        sessions[:, 2] >= 0)\n",
        "  return sessions[mask]\n",
        "\n",
        "\n",
        "def optimize_solar(scenarios, solar_curve, solar_lcoe, tou_prices, demand_charge, \n",
        "                   period_len, max_charging_power):\n",
        "  alpha = cp.Variable(nonneg=True)\n",
        "  problems = [] \n",
        "  for j, scenario in enumerate(scenarios):\n",
        "    print(f'Adding scenario {j}...')\n",
        "    horizon = int(max(scenario[:, 0] + scenario[:, 1]))\n",
        "    print(f'Horizon {horizon}...')\n",
        "    agg_rates = defaultdict(list)\n",
        "    constraints = []\n",
        "    for i, session in enumerate(scenario):\n",
        "      a, d = int(session[0]), int(session[1])\n",
        "      rates = cp.Variable(d)\n",
        "      constraints.append(rates <= max_charging_power)\n",
        "      # print('Adding energy constraints...')\n",
        "      constraints.append(cp.sum(rates) * period_len == session[2])\n",
        "      for t in range(d):\n",
        "        agg_rates[a + t].append(rates[t])\n",
        "    \n",
        "    peak = cp.Variable(nonneg=True)\n",
        "    \n",
        "    scenario_solar = solar_curve[:horizon]\n",
        "    obj = solar_lcoe * alpha * sum(scenario_solar) * period_len\n",
        "    grid_power = {}\n",
        "    for t in agg_rates:\n",
        "      grid_power[t] = cp.maximum(0, sum(agg_rates[t]) - alpha * scenario_solar[t])\n",
        "      obj += tou_prices[t] * grid_power[t] * period_len\n",
        "      constraints.append(peak >= grid_power[t])\n",
        "    obj += demand_charge * peak\n",
        "    p = cp.Problem(cp.Minimize(obj), constraints)\n",
        "    problems.append(p)\n",
        "  total_prob = sum(problems) \n",
        "  total_prob.solve(verbose=True)\n",
        "  return {'average_cost': total_prob.value / len(scenarios),\n",
        "          'alpha': alpha.value}\n",
        "\n",
        "\n",
        "class SamSolar:\n",
        "    def __init__(self, period, csv_source, index_name, col_name, \n",
        "                 scale=None, capacity=None):\n",
        "        init_time = datetime(2018, 1, 1).astimezone()\n",
        "        self.period = period\n",
        "        self.csv = csv_source\n",
        "        raw_solar = pd.read_csv(self.csv, index_col=index_name)\n",
        "        raw_solar.index = init_time + pd.to_timedelta(raw_solar.index, 'h')\n",
        "        raw_solar = raw_solar.resample('{0}T'.format(self.period)).pad()  # should switch to interpolate...\n",
        "        self.scale=scale\n",
        "        raw_solar = raw_solar[col_name].fillna(0).clip(lower=0)\n",
        "        if self.scale is not None:\n",
        "            if capacity is None:\n",
        "                raw_solar = (raw_solar / raw_solar.max())*self.scale\n",
        "            else:\n",
        "                raw_solar = (raw_solar / capacity) * self.scale\n",
        "        self.generation = raw_solar\n",
        "\n",
        "    def get_generation(self, start, end):\n",
        "        if end < datetime(2019, 1, 1).astimezone():\n",
        "            return self.generation[start:end].values\n",
        "        else:\n",
        "            return np.concatenate([self.generation[start:].values, self.generation[:end.replace(year=2018)]])"
      ],
      "execution_count": 0,
      "outputs": []
    },
    {
      "cell_type": "code",
      "metadata": {
        "id": "axxiBVFxpclK",
        "colab_type": "code",
        "colab": {}
      },
      "source": [
        "training_start = tz.localize(datetime(2019, 1, 1))\n",
        "training_end = tz.localize(datetime(2019, 2, 1))\n",
        "data = get_data(training_start, training_end, 'jpl')\n",
        "gmm = train_gmm(data)"
      ],
      "execution_count": 0,
      "outputs": []
    },
    {
      "cell_type": "code",
      "metadata": {
        "id": "7-A8XJoDpimh",
        "colab_type": "code",
        "colab": {}
      },
      "source": [
        "period = 15\n",
        "period_len = period / 60\n",
        "max_len = 30 * 24 * int(60 / period)\n",
        "max_charging_power = 6.656\n",
        "scenarios = []\n",
        "for _ in range(5):\n",
        "  sessions = sample_sessions(7, 30, gmm)\n",
        "  sessions = process_sessions(sessions, period, max_charging_power)\n",
        "  scenarios.append(sessions)"
      ],
      "execution_count": 0,
      "outputs": []
    },
    {
      "cell_type": "code",
      "metadata": {
        "id": "My1uA8ZgD68q",
        "colab_type": "code",
        "colab": {}
      },
      "source": [
        "solar_data = 'tmy_yearly_system_production.csv'\n",
        "solar = SamSolar(period, solar_data, 'Hours since 00:00 Jan 1', 'System power generated (kW)')"
      ],
      "execution_count": 0,
      "outputs": []
    },
    {
      "cell_type": "code",
      "metadata": {
        "id": "A2xJpMIpq81y",
        "colab_type": "code",
        "colab": {
          "base_uri": "https://localhost:8080/",
          "height": 625
        },
        "outputId": "cf0c7de0-47b4-4368-8f3b-20c1a4e155f8"
      },
      "source": [
        "from acnportal.signals.tariffs import TimeOfUseTariff\n",
        "simulation_start_time = tz.localize(datetime(2019, 2, 1))\n",
        "\n",
        "\n",
        "# TODO: Add actual solar curve file. \n",
        "solar_curve = solar.get_generation(simulation_start_time, \n",
        "                                   simulation_start_time + timedelta(days=30))\n",
        "solar_lcoe = 0.04\n",
        "\n",
        "tariff = TimeOfUseTariff('sce_tou_ev_4_march_2019')\n",
        "demand_charge = tariff.get_demand_charge(simulation_start_time)\n",
        "tou_prices = tariff.get_tariffs(simulation_start_time, max_len, period)\n",
        "\n",
        "init_time = time.time()\n",
        "res = optimize_solar(scenarios, solar_curve, solar_lcoe, \n",
        "                      tou_prices, demand_charge, period_len, \n",
        "                      max_charging_power)\n",
        "print(time.time() - init_time)"
      ],
      "execution_count": 127,
      "outputs": [
        {
          "output_type": "stream",
          "text": [
            "Adding scenario 0...\n",
            "Horizon 655...\n",
            "Adding scenario 1...\n",
            "Horizon 651...\n",
            "Adding scenario 2...\n",
            "Horizon 658...\n",
            "Adding scenario 3...\n",
            "Horizon 656...\n",
            "Adding scenario 4...\n",
            "Horizon 655...\n",
            "\n",
            "ECOS 2.0.7 - (C) embotech GmbH, Zurich Switzerland, 2012-15. Web: www.embotech.com/ECOS\n",
            "\n",
            "It     pcost       dcost      gap   pres   dres    k/t    mu     step   sigma     IR    |   BT\n",
            " 0  +6.662e+02  -2.125e+05  +6e+05  4e-01  7e+00  1e+00  1e+01    ---    ---    1  1  - |  -  - \n",
            " 1  +1.351e+03  -4.319e+04  +2e+05  8e-02  2e+00  2e+00  5e+00  0.7615  2e-01   1  1  1 |  0  0\n",
            " 2  +1.328e+03  -7.207e+03  +6e+04  1e-02  8e-01  6e-01  1e+00  0.7696  3e-02   1  1  1 |  0  0\n",
            " 3  +1.244e+03  -4.270e+03  +4e+04  9e-03  5e-01  4e-01  9e-01  0.4317  2e-01   1  1  1 |  0  0\n",
            " 4  +1.220e+03  -1.946e+03  +2e+04  5e-03  3e-01  2e-01  5e-01  0.6066  3e-01   1  1  1 |  0  0\n",
            " 5  +1.161e+03  -3.370e+02  +1e+04  2e-03  1e-01  8e-02  3e-01  0.5620  9e-02   1  0  1 |  0  0\n",
            " 6  +1.158e+03  -2.464e+02  +1e+04  2e-03  9e-02  7e-02  2e-01  0.1913  7e-01   1  1  1 |  0  0\n",
            " 7  +1.156e+03  +7.709e+01  +8e+03  2e-03  4e-02  4e-02  2e-01  0.4135  4e-01   1  1  1 |  0  0\n",
            " 8  +1.133e+03  +7.433e+02  +3e+03  6e-04  1e-02  1e-02  7e-02  0.7620  2e-01   1  1  1 |  0  0\n",
            " 9  +1.124e+03  +9.518e+02  +1e+03  3e-04  6e-03  6e-03  3e-02  0.6345  1e-01   1  1  1 |  0  0\n",
            "10  +1.120e+03  +1.057e+03  +5e+02  9e-05  2e-03  2e-03  1e-02  0.6984  9e-02   1  1  1 |  0  0\n",
            "11  +1.119e+03  +1.084e+03  +3e+02  5e-05  1e-03  1e-03  6e-03  0.6304  3e-01   1  1  1 |  0  0\n",
            "12  +1.118e+03  +1.112e+03  +4e+01  9e-06  2e-04  2e-04  1e-03  0.8554  3e-02   1  1  1 |  0  0\n",
            "13  +1.117e+03  +1.115e+03  +1e+01  3e-06  7e-05  5e-05  4e-04  0.8137  2e-01   1  1  1 |  0  0\n",
            "14  +1.117e+03  +1.117e+03  +3e-01  7e-08  2e-06  1e-06  8e-06  0.9771  1e-04   1  1  1 |  0  0\n",
            "15  +1.117e+03  +1.117e+03  +4e-03  8e-10  2e-08  1e-08  9e-08  0.9890  1e-04   2  1  1 |  0  0\n",
            "16  +1.117e+03  +1.117e+03  +4e-05  8e-12  2e-10  1e-10  1e-09  0.9890  1e-04   2  0  0 |  0  0\n",
            "17  +1.117e+03  +1.117e+03  +5e-07  9e-14  2e-12  2e-12  1e-11  0.9890  1e-04   2  0  0 |  0  0\n",
            "\n",
            "OPTIMAL (within feastol=2.2e-12, reltol=4.2e-10, abstol=4.7e-07).\n",
            "Runtime: 0.545468 seconds.\n",
            "\n",
            "36.07119011878967\n"
          ],
          "name": "stdout"
        }
      ]
    },
    {
      "cell_type": "code",
      "metadata": {
        "id": "elCdCzdRqXg7",
        "colab_type": "code",
        "colab": {
          "base_uri": "https://localhost:8080/",
          "height": 32
        },
        "outputId": "f12fc124-b794-45e9-fe37-751ad3691a80"
      },
      "source": [
        "res"
      ],
      "execution_count": 128,
      "outputs": [
        {
          "output_type": "execute_result",
          "data": {
            "text/plain": [
              "{'alpha': 119.74392587054452, 'average_cost': 223.46508927120448}"
            ]
          },
          "metadata": {
            "tags": []
          },
          "execution_count": 128
        }
      ]
    },
    {
      "cell_type": "code",
      "metadata": {
        "id": "XGVasykEDbKx",
        "colab_type": "code",
        "colab": {
          "base_uri": "https://localhost:8080/",
          "height": 32
        },
        "outputId": "5cc5f49d-e12c-42b3-c7f1-e4d9884f6094"
      },
      "source": [
        ""
      ],
      "execution_count": 126,
      "outputs": [
        {
          "output_type": "execute_result",
          "data": {
            "text/plain": [
              "0.766779"
            ]
          },
          "metadata": {
            "tags": []
          },
          "execution_count": 126
        }
      ]
    },
    {
      "cell_type": "code",
      "metadata": {
        "id": "jktnlrKjGJZX",
        "colab_type": "code",
        "colab": {}
      },
      "source": [
        ""
      ],
      "execution_count": 0,
      "outputs": []
    }
  ]
}